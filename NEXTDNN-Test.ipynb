{
 "cells": [
  {
   "cell_type": "code",
   "execution_count": 1,
   "metadata": {
    "scrolled": false
   },
   "outputs": [
    {
     "name": "stdout",
     "output_type": "stream",
     "text": [
      "Using GPU 0\n",
      "Found 88 CPUs and 10 GPUs. Using 6 threads. max_threads = 6\n",
      "HyperParameter Scan:  20 possible combiniations.\n",
      "______________________________________\n",
      "ScanConfiguration\n",
      "______________________________________\n",
      "Picked combination:  10\n",
      "Combo[10]={'Width': 32, 'Depth': 3}\n",
      "Model Filename:  NEXTDNN_32_3\n",
      "______________________________________\n",
      "Test Mode: Set MaxEvents to 10000 and Epochs to 10\n"
     ]
    },
    {
     "name": "stderr",
     "output_type": "stream",
     "text": [
      "Using Theano backend.\n"
     ]
    },
    {
     "name": "stdout",
     "output_type": "stream",
     "text": [
      "Couldn't import dot_parser, loading of dot files will not be possible.\n"
     ]
    },
    {
     "name": "stderr",
     "output_type": "stream",
     "text": [
      "WARNING (theano.sandbox.cuda): The cuda backend is deprecated and will be removed in the next release (v0.10).  Please switch to the gpuarray backend. You can get more information about how to switch at this URL:\n",
      " https://github.com/Theano/Theano/wiki/Converting-to-the-new-gpu-back-end%28gpuarray%29\n",
      "\n",
      "Using gpu device 0: TITAN X (Pascal) (CNMeM is disabled, cuDNN 5105)\n"
     ]
    },
    {
     "name": "stdout",
     "output_type": "stream",
     "text": [
      "Looking for Previous Model to load.\n",
      "Loading Previous Model From: TrainedModels.Test/NEXTDNN_32_3.8\n",
      "Output Directory: TrainedModels.Test/NEXTDNN_32_3.9\n",
      "_________________________________________________________________\n",
      "Layer (type)                 Output Shape              Param #   \n",
      "=================================================================\n",
      "input_1 (InputLayer)         (None, 50, 50, 50)        0         \n",
      "_________________________________________________________________\n",
      "flatten_1 (Flatten)          (None, 125000)            0         \n",
      "_________________________________________________________________\n",
      "activation_1 (Activation)    (None, 125000)            0         \n",
      "_________________________________________________________________\n",
      "dense_1 (Dense)              (None, 32)                4000032   \n",
      "_________________________________________________________________\n",
      "activation_2 (Activation)    (None, 32)                0         \n",
      "_________________________________________________________________\n",
      "dropout_1 (Dropout)          (None, 32)                0         \n",
      "_________________________________________________________________\n",
      "dense_2 (Dense)              (None, 32)                1056      \n",
      "_________________________________________________________________\n",
      "activation_3 (Activation)    (None, 32)                0         \n",
      "_________________________________________________________________\n",
      "dropout_2 (Dropout)          (None, 32)                0         \n",
      "_________________________________________________________________\n",
      "dense_3 (Dense)              (None, 32)                1056      \n",
      "_________________________________________________________________\n",
      "activation_4 (Activation)    (None, 32)                0         \n",
      "_________________________________________________________________\n",
      "dropout_3 (Dropout)          (None, 32)                0         \n",
      "_________________________________________________________________\n",
      "dense_4 (Dense)              (None, 2)                 66        \n",
      "=================================================================\n",
      "Total params: 4,002,210.0\n",
      "Trainable params: 4,002,210.0\n",
      "Non-trainable params: 0.0\n",
      "_________________________________________________________________\n",
      "Compiling Model.\n",
      "Warning: optimizer configuration parameter epsilon was not set in configuration file. Will use default.\n",
      "Warning: optimizer configuration parameter rho was not set in configuration file. Will use default.\n",
      "Training.\n",
      "Setting Runningtime to 3600 .\n",
      "Evaluating score on test sample...\n",
      "Initial Score: [0.69315218925476074, 0.5]\n",
      "Epoch 1/10\n",
      "281/281 [==============================] - 10s - loss: 0.6932 - acc: 0.5000 - val_loss: 0.6932 - val_acc: 0.5000\n",
      "Epoch 2/10\n",
      "281/281 [==============================] - 10s - loss: 0.6932 - acc: 0.5000 - val_loss: 0.6932 - val_acc: 0.5000\n",
      "Epoch 3/10\n",
      "281/281 [==============================] - 10s - loss: 0.6932 - acc: 0.5004 - val_loss: 0.6932 - val_acc: 0.5000\n",
      "Epoch 4/10\n",
      "281/281 [==============================] - 9s - loss: 0.6932 - acc: 0.5000 - val_loss: 0.6931 - val_acc: 0.5000\n",
      "Epoch 5/10\n",
      "281/281 [==============================] - 10s - loss: 0.6932 - acc: 0.5004 - val_loss: 0.6931 - val_acc: 0.5000\n",
      "Epoch 6/10\n",
      "281/281 [==============================] - 10s - loss: 0.6931 - acc: 0.5000 - val_loss: 0.6931 - val_acc: 0.5000\n",
      "Epoch 7/10\n",
      "281/281 [==============================] - 10s - loss: 0.6932 - acc: 0.4996 - val_loss: 0.6931 - val_acc: 0.5000\n",
      "Epoch 8/10\n",
      "281/281 [==============================] - 10s - loss: 0.6931 - acc: 0.5000 - val_loss: 0.6931 - val_acc: 0.5000\n",
      "Epoch 9/10\n",
      "281/281 [==============================] - 10s - loss: 0.6931 - acc: 0.4991 - val_loss: 0.6931 - val_acc: 0.5000\n",
      "Epoch 10/10\n",
      "281/281 [==============================] - 10s - loss: 0.6931 - acc: 0.5000 - val_loss: 0.6931 - val_acc: 0.5000\n",
      "Evaluating score on test sample...\n",
      "Final Score: [0.69314718246459961, 0.5]\n",
      "Running Analysis.\n"
     ]
    },
    {
     "name": "stderr",
     "output_type": "stream",
     "text": [
      "/home/afarbin/.virtualenvs/keras2/local/lib/python2.7/site-packages/matplotlib/__init__.py:1401: UserWarning:  This call to matplotlib.use() has no effect\n",
      "because the backend has already been chosen;\n",
      "matplotlib.use() must be called *before* pylab, matplotlib.pyplot,\n",
      "or matplotlib.backends is imported for the first time.\n",
      "\n",
      "  warnings.warn(_use_error_msg)\n"
     ]
    },
    {
     "data": {
      "image/png": "[encoded data removed]",
      "text/plain": [
       "<matplotlib.figure.Figure at 0x7fca9c216110>"
      ]
     },
     "metadata": {},
     "output_type": "display_data"
    }
   ],
   "source": [
    "%matplotlib inline\n",
    "%run -im NEXTDNN.ClassificationExperiment -- --Test -s 10"
   ]
  },
  {
   "cell_type": "code",
   "execution_count": null,
   "metadata": {
    "collapsed": true
   },
   "outputs": [],
   "source": []
  }
 ],
 "metadata": {
  "kernelspec": {
   "display_name": "Python 2",
   "language": "python",
   "name": "python2"
  },
  "language_info": {
   "codemirror_mode": {
    "name": "ipython",
    "version": 2
   },
   "file_extension": ".py",
   "mimetype": "text/x-python",
   "name": "python",
   "nbconvert_exporter": "python",
   "pygments_lexer": "ipython2",
   "version": "2.7.12"
  }
 },
 "nbformat": 4,
 "nbformat_minor": 2
}
